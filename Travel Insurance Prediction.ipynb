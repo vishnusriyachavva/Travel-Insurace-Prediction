{
 "cells": [
  {
   "cell_type": "markdown",
   "id": "4aebd154",
   "metadata": {
    "_cell_guid": "b1076dfc-b9ad-4769-8c92-a6c4dae69d19",
    "_uuid": "8f2839f25d086af736a60e9eeb907d3b93b6e0e5",
    "papermill": {
     "duration": 0.04298,
     "end_time": "2021-08-02T05:13:31.065767",
     "exception": false,
     "start_time": "2021-08-02T05:13:31.022787",
     "status": "completed"
    },
    "tags": []
   },
   "source": [
    "# Travel Insurance Predictions ✈ 📃"
   ]
  },
  {
   "cell_type": "markdown",
   "id": "fafb469e",
   "metadata": {
    "papermill": {
     "duration": 0.041927,
     "end_time": "2021-08-02T05:13:31.150399",
     "exception": false,
     "start_time": "2021-08-02T05:13:31.108472",
     "status": "completed"
    },
    "tags": []
   },
   "source": [
    "#### If you like my work, It will be really great of you to upvote this notebook!\n",
    "#### If not then you leaving a comment on what do I need to work on and improve will be really helpful!"
   ]
  },
  {
   "cell_type": "markdown",
   "id": "3491e460",
   "metadata": {
    "papermill": {
     "duration": 0.044577,
     "end_time": "2021-08-02T05:13:31.235895",
     "exception": false,
     "start_time": "2021-08-02T05:13:31.191318",
     "status": "completed"
    },
    "tags": []
   },
   "source": [
    "## Importing Libraries"
   ]
  },
  {
   "cell_type": "code",
   "execution_count": 1,
   "id": "fc67f114",
   "metadata": {
    "execution": {
     "iopub.execute_input": "2021-08-02T05:13:31.339713Z",
     "iopub.status.busy": "2021-08-02T05:13:31.339135Z",
     "iopub.status.idle": "2021-08-02T05:13:32.243479Z",
     "shell.execute_reply": "2021-08-02T05:13:32.242678Z",
     "shell.execute_reply.started": "2021-08-02T04:34:56.813801Z"
    },
    "papermill": {
     "duration": 0.957188,
     "end_time": "2021-08-02T05:13:32.243648",
     "exception": false,
     "start_time": "2021-08-02T05:13:31.286460",
     "status": "completed"
    },
    "tags": []
   },
   "outputs": [],
   "source": [
    "import pandas as pd\n",
    "import numpy as np\n",
    "import matplotlib.pyplot as plt\n",
    "import seaborn as sns\n",
    "import warnings\n",
    "\n",
    "warnings.simplefilter(\"ignore\")"
   ]
  },
  {
   "cell_type": "markdown",
   "id": "b33ac3ef",
   "metadata": {
    "papermill": {
     "duration": 0.042178,
     "end_time": "2021-08-02T05:13:32.327507",
     "exception": false,
     "start_time": "2021-08-02T05:13:32.285329",
     "status": "completed"
    },
    "tags": []
   },
   "source": [
    "## Loading up the data"
   ]
  },
  {
   "cell_type": "code",
   "execution_count": 2,
   "id": "8a024ad6",
   "metadata": {
    "execution": {
     "iopub.execute_input": "2021-08-02T05:13:32.416135Z",
     "iopub.status.busy": "2021-08-02T05:13:32.415468Z",
     "iopub.status.idle": "2021-08-02T05:13:32.455361Z",
     "shell.execute_reply": "2021-08-02T05:13:32.455760Z",
     "shell.execute_reply.started": "2021-08-02T04:34:57.310132Z"
    },
    "papermill": {
     "duration": 0.086762,
     "end_time": "2021-08-02T05:13:32.455935",
     "exception": false,
     "start_time": "2021-08-02T05:13:32.369173",
     "status": "completed"
    },
    "tags": []
   },
   "outputs": [
    {
     "data": {
      "text/html": [
       "<div>\n",
       "<style scoped>\n",
       "    .dataframe tbody tr th:only-of-type {\n",
       "        vertical-align: middle;\n",
       "    }\n",
       "\n",
       "    .dataframe tbody tr th {\n",
       "        vertical-align: top;\n",
       "    }\n",
       "\n",
       "    .dataframe thead th {\n",
       "        text-align: right;\n",
       "    }\n",
       "</style>\n",
       "<table border=\"1\" class=\"dataframe\">\n",
       "  <thead>\n",
       "    <tr style=\"text-align: right;\">\n",
       "      <th></th>\n",
       "      <th>Unnamed: 0</th>\n",
       "      <th>Age</th>\n",
       "      <th>Employment Type</th>\n",
       "      <th>GraduateOrNot</th>\n",
       "      <th>AnnualIncome</th>\n",
       "      <th>FamilyMembers</th>\n",
       "      <th>ChronicDiseases</th>\n",
       "      <th>FrequentFlyer</th>\n",
       "      <th>EverTravelledAbroad</th>\n",
       "      <th>TravelInsurance</th>\n",
       "    </tr>\n",
       "  </thead>\n",
       "  <tbody>\n",
       "    <tr>\n",
       "      <th>0</th>\n",
       "      <td>0</td>\n",
       "      <td>31</td>\n",
       "      <td>Government Sector</td>\n",
       "      <td>Yes</td>\n",
       "      <td>400000</td>\n",
       "      <td>6</td>\n",
       "      <td>1</td>\n",
       "      <td>No</td>\n",
       "      <td>No</td>\n",
       "      <td>0</td>\n",
       "    </tr>\n",
       "    <tr>\n",
       "      <th>1</th>\n",
       "      <td>1</td>\n",
       "      <td>31</td>\n",
       "      <td>Private Sector/Self Employed</td>\n",
       "      <td>Yes</td>\n",
       "      <td>1250000</td>\n",
       "      <td>7</td>\n",
       "      <td>0</td>\n",
       "      <td>No</td>\n",
       "      <td>No</td>\n",
       "      <td>0</td>\n",
       "    </tr>\n",
       "    <tr>\n",
       "      <th>2</th>\n",
       "      <td>2</td>\n",
       "      <td>34</td>\n",
       "      <td>Private Sector/Self Employed</td>\n",
       "      <td>Yes</td>\n",
       "      <td>500000</td>\n",
       "      <td>4</td>\n",
       "      <td>1</td>\n",
       "      <td>No</td>\n",
       "      <td>No</td>\n",
       "      <td>1</td>\n",
       "    </tr>\n",
       "    <tr>\n",
       "      <th>3</th>\n",
       "      <td>3</td>\n",
       "      <td>28</td>\n",
       "      <td>Private Sector/Self Employed</td>\n",
       "      <td>Yes</td>\n",
       "      <td>700000</td>\n",
       "      <td>3</td>\n",
       "      <td>1</td>\n",
       "      <td>No</td>\n",
       "      <td>No</td>\n",
       "      <td>0</td>\n",
       "    </tr>\n",
       "    <tr>\n",
       "      <th>4</th>\n",
       "      <td>4</td>\n",
       "      <td>28</td>\n",
       "      <td>Private Sector/Self Employed</td>\n",
       "      <td>Yes</td>\n",
       "      <td>700000</td>\n",
       "      <td>8</td>\n",
       "      <td>1</td>\n",
       "      <td>Yes</td>\n",
       "      <td>No</td>\n",
       "      <td>0</td>\n",
       "    </tr>\n",
       "  </tbody>\n",
       "</table>\n",
       "</div>"
      ],
      "text/plain": [
       "   Unnamed: 0  Age               Employment Type GraduateOrNot  AnnualIncome  \\\n",
       "0           0   31             Government Sector           Yes        400000   \n",
       "1           1   31  Private Sector/Self Employed           Yes       1250000   \n",
       "2           2   34  Private Sector/Self Employed           Yes        500000   \n",
       "3           3   28  Private Sector/Self Employed           Yes        700000   \n",
       "4           4   28  Private Sector/Self Employed           Yes        700000   \n",
       "\n",
       "   FamilyMembers  ChronicDiseases FrequentFlyer EverTravelledAbroad  \\\n",
       "0              6                1            No                  No   \n",
       "1              7                0            No                  No   \n",
       "2              4                1            No                  No   \n",
       "3              3                1            No                  No   \n",
       "4              8                1           Yes                  No   \n",
       "\n",
       "   TravelInsurance  \n",
       "0                0  \n",
       "1                0  \n",
       "2                1  \n",
       "3                0  \n",
       "4                0  "
      ]
     },
     "execution_count": 2,
     "metadata": {},
     "output_type": "execute_result"
    }
   ],
   "source": [
    "df = pd.read_csv(\"../input/travel-insurance-prediction-data/TravelInsurancePrediction.csv\")\n",
    "df.head()"
   ]
  },
  {
   "cell_type": "code",
   "execution_count": 3,
   "id": "8da89685",
   "metadata": {
    "execution": {
     "iopub.execute_input": "2021-08-02T05:13:32.547452Z",
     "iopub.status.busy": "2021-08-02T05:13:32.546713Z",
     "iopub.status.idle": "2021-08-02T05:13:32.550428Z",
     "shell.execute_reply": "2021-08-02T05:13:32.549959Z",
     "shell.execute_reply.started": "2021-08-02T04:34:57.343598Z"
    },
    "papermill": {
     "duration": 0.052632,
     "end_time": "2021-08-02T05:13:32.550541",
     "exception": false,
     "start_time": "2021-08-02T05:13:32.497909",
     "status": "completed"
    },
    "tags": []
   },
   "outputs": [
    {
     "data": {
      "text/plain": [
       "Unnamed: 0             0\n",
       "Age                    0\n",
       "Employment Type        0\n",
       "GraduateOrNot          0\n",
       "AnnualIncome           0\n",
       "FamilyMembers          0\n",
       "ChronicDiseases        0\n",
       "FrequentFlyer          0\n",
       "EverTravelledAbroad    0\n",
       "TravelInsurance        0\n",
       "dtype: int64"
      ]
     },
     "execution_count": 3,
     "metadata": {},
     "output_type": "execute_result"
    }
   ],
   "source": [
    "# Looking for missing values in the dataset\n",
    "df.isna().sum()"
   ]
  },
  {
   "cell_type": "code",
   "execution_count": 4,
   "id": "fcf665ac",
   "metadata": {
    "execution": {
     "iopub.execute_input": "2021-08-02T05:13:32.637916Z",
     "iopub.status.busy": "2021-08-02T05:13:32.637101Z",
     "iopub.status.idle": "2021-08-02T05:13:32.642670Z",
     "shell.execute_reply": "2021-08-02T05:13:32.643093Z",
     "shell.execute_reply.started": "2021-08-02T04:34:57.357061Z"
    },
    "papermill": {
     "duration": 0.050804,
     "end_time": "2021-08-02T05:13:32.643217",
     "exception": false,
     "start_time": "2021-08-02T05:13:32.592413",
     "status": "completed"
    },
    "tags": []
   },
   "outputs": [],
   "source": [
    "# Dropping few columns from the dataset\n",
    "df.drop([\"Unnamed: 0\", \"GraduateOrNot\"], axis=1, inplace=True)"
   ]
  },
  {
   "cell_type": "code",
   "execution_count": 5,
   "id": "d5f53163",
   "metadata": {
    "execution": {
     "iopub.execute_input": "2021-08-02T05:13:32.732209Z",
     "iopub.status.busy": "2021-08-02T05:13:32.731350Z",
     "iopub.status.idle": "2021-08-02T05:13:32.742597Z",
     "shell.execute_reply": "2021-08-02T05:13:32.743051Z",
     "shell.execute_reply.started": "2021-08-02T04:34:57.374086Z"
    },
    "papermill": {
     "duration": 0.057006,
     "end_time": "2021-08-02T05:13:32.743180",
     "exception": false,
     "start_time": "2021-08-02T05:13:32.686174",
     "status": "completed"
    },
    "tags": []
   },
   "outputs": [
    {
     "data": {
      "text/html": [
       "<div>\n",
       "<style scoped>\n",
       "    .dataframe tbody tr th:only-of-type {\n",
       "        vertical-align: middle;\n",
       "    }\n",
       "\n",
       "    .dataframe tbody tr th {\n",
       "        vertical-align: top;\n",
       "    }\n",
       "\n",
       "    .dataframe thead th {\n",
       "        text-align: right;\n",
       "    }\n",
       "</style>\n",
       "<table border=\"1\" class=\"dataframe\">\n",
       "  <thead>\n",
       "    <tr style=\"text-align: right;\">\n",
       "      <th></th>\n",
       "      <th>Age</th>\n",
       "      <th>Employment Type</th>\n",
       "      <th>AnnualIncome</th>\n",
       "      <th>FamilyMembers</th>\n",
       "      <th>ChronicDiseases</th>\n",
       "      <th>FrequentFlyer</th>\n",
       "      <th>EverTravelledAbroad</th>\n",
       "      <th>TravelInsurance</th>\n",
       "    </tr>\n",
       "  </thead>\n",
       "  <tbody>\n",
       "    <tr>\n",
       "      <th>0</th>\n",
       "      <td>31</td>\n",
       "      <td>Government Sector</td>\n",
       "      <td>400000</td>\n",
       "      <td>6</td>\n",
       "      <td>1</td>\n",
       "      <td>No</td>\n",
       "      <td>No</td>\n",
       "      <td>0</td>\n",
       "    </tr>\n",
       "    <tr>\n",
       "      <th>1</th>\n",
       "      <td>31</td>\n",
       "      <td>Private Sector/Self Employed</td>\n",
       "      <td>1250000</td>\n",
       "      <td>7</td>\n",
       "      <td>0</td>\n",
       "      <td>No</td>\n",
       "      <td>No</td>\n",
       "      <td>0</td>\n",
       "    </tr>\n",
       "    <tr>\n",
       "      <th>2</th>\n",
       "      <td>34</td>\n",
       "      <td>Private Sector/Self Employed</td>\n",
       "      <td>500000</td>\n",
       "      <td>4</td>\n",
       "      <td>1</td>\n",
       "      <td>No</td>\n",
       "      <td>No</td>\n",
       "      <td>1</td>\n",
       "    </tr>\n",
       "    <tr>\n",
       "      <th>3</th>\n",
       "      <td>28</td>\n",
       "      <td>Private Sector/Self Employed</td>\n",
       "      <td>700000</td>\n",
       "      <td>3</td>\n",
       "      <td>1</td>\n",
       "      <td>No</td>\n",
       "      <td>No</td>\n",
       "      <td>0</td>\n",
       "    </tr>\n",
       "    <tr>\n",
       "      <th>4</th>\n",
       "      <td>28</td>\n",
       "      <td>Private Sector/Self Employed</td>\n",
       "      <td>700000</td>\n",
       "      <td>8</td>\n",
       "      <td>1</td>\n",
       "      <td>Yes</td>\n",
       "      <td>No</td>\n",
       "      <td>0</td>\n",
       "    </tr>\n",
       "  </tbody>\n",
       "</table>\n",
       "</div>"
      ],
      "text/plain": [
       "   Age               Employment Type  AnnualIncome  FamilyMembers  \\\n",
       "0   31             Government Sector        400000              6   \n",
       "1   31  Private Sector/Self Employed       1250000              7   \n",
       "2   34  Private Sector/Self Employed        500000              4   \n",
       "3   28  Private Sector/Self Employed        700000              3   \n",
       "4   28  Private Sector/Self Employed        700000              8   \n",
       "\n",
       "   ChronicDiseases FrequentFlyer EverTravelledAbroad  TravelInsurance  \n",
       "0                1            No                  No                0  \n",
       "1                0            No                  No                0  \n",
       "2                1            No                  No                1  \n",
       "3                1            No                  No                0  \n",
       "4                1           Yes                  No                0  "
      ]
     },
     "execution_count": 5,
     "metadata": {},
     "output_type": "execute_result"
    }
   ],
   "source": [
    "df.head()"
   ]
  },
  {
   "cell_type": "code",
   "execution_count": 6,
   "id": "c3bf62ce",
   "metadata": {
    "execution": {
     "iopub.execute_input": "2021-08-02T05:13:32.831370Z",
     "iopub.status.busy": "2021-08-02T05:13:32.830544Z",
     "iopub.status.idle": "2021-08-02T05:13:32.856222Z",
     "shell.execute_reply": "2021-08-02T05:13:32.856630Z",
     "shell.execute_reply.started": "2021-08-02T04:34:57.397786Z"
    },
    "papermill": {
     "duration": 0.071288,
     "end_time": "2021-08-02T05:13:32.856764",
     "exception": false,
     "start_time": "2021-08-02T05:13:32.785476",
     "status": "completed"
    },
    "tags": []
   },
   "outputs": [
    {
     "data": {
      "text/html": [
       "<div>\n",
       "<style scoped>\n",
       "    .dataframe tbody tr th:only-of-type {\n",
       "        vertical-align: middle;\n",
       "    }\n",
       "\n",
       "    .dataframe tbody tr th {\n",
       "        vertical-align: top;\n",
       "    }\n",
       "\n",
       "    .dataframe thead th {\n",
       "        text-align: right;\n",
       "    }\n",
       "</style>\n",
       "<table border=\"1\" class=\"dataframe\">\n",
       "  <thead>\n",
       "    <tr style=\"text-align: right;\">\n",
       "      <th></th>\n",
       "      <th>Age</th>\n",
       "      <th>AnnualIncome</th>\n",
       "      <th>FamilyMembers</th>\n",
       "      <th>ChronicDiseases</th>\n",
       "      <th>TravelInsurance</th>\n",
       "    </tr>\n",
       "  </thead>\n",
       "  <tbody>\n",
       "    <tr>\n",
       "      <th>count</th>\n",
       "      <td>1987.000000</td>\n",
       "      <td>1.987000e+03</td>\n",
       "      <td>1987.000000</td>\n",
       "      <td>1987.000000</td>\n",
       "      <td>1987.000000</td>\n",
       "    </tr>\n",
       "    <tr>\n",
       "      <th>mean</th>\n",
       "      <td>29.650226</td>\n",
       "      <td>9.327630e+05</td>\n",
       "      <td>4.752894</td>\n",
       "      <td>0.277806</td>\n",
       "      <td>0.357323</td>\n",
       "    </tr>\n",
       "    <tr>\n",
       "      <th>std</th>\n",
       "      <td>2.913308</td>\n",
       "      <td>3.768557e+05</td>\n",
       "      <td>1.609650</td>\n",
       "      <td>0.448030</td>\n",
       "      <td>0.479332</td>\n",
       "    </tr>\n",
       "    <tr>\n",
       "      <th>min</th>\n",
       "      <td>25.000000</td>\n",
       "      <td>3.000000e+05</td>\n",
       "      <td>2.000000</td>\n",
       "      <td>0.000000</td>\n",
       "      <td>0.000000</td>\n",
       "    </tr>\n",
       "    <tr>\n",
       "      <th>25%</th>\n",
       "      <td>28.000000</td>\n",
       "      <td>6.000000e+05</td>\n",
       "      <td>4.000000</td>\n",
       "      <td>0.000000</td>\n",
       "      <td>0.000000</td>\n",
       "    </tr>\n",
       "    <tr>\n",
       "      <th>50%</th>\n",
       "      <td>29.000000</td>\n",
       "      <td>9.000000e+05</td>\n",
       "      <td>5.000000</td>\n",
       "      <td>0.000000</td>\n",
       "      <td>0.000000</td>\n",
       "    </tr>\n",
       "    <tr>\n",
       "      <th>75%</th>\n",
       "      <td>32.000000</td>\n",
       "      <td>1.250000e+06</td>\n",
       "      <td>6.000000</td>\n",
       "      <td>1.000000</td>\n",
       "      <td>1.000000</td>\n",
       "    </tr>\n",
       "    <tr>\n",
       "      <th>max</th>\n",
       "      <td>35.000000</td>\n",
       "      <td>1.800000e+06</td>\n",
       "      <td>9.000000</td>\n",
       "      <td>1.000000</td>\n",
       "      <td>1.000000</td>\n",
       "    </tr>\n",
       "  </tbody>\n",
       "</table>\n",
       "</div>"
      ],
      "text/plain": [
       "               Age  AnnualIncome  FamilyMembers  ChronicDiseases  \\\n",
       "count  1987.000000  1.987000e+03    1987.000000      1987.000000   \n",
       "mean     29.650226  9.327630e+05       4.752894         0.277806   \n",
       "std       2.913308  3.768557e+05       1.609650         0.448030   \n",
       "min      25.000000  3.000000e+05       2.000000         0.000000   \n",
       "25%      28.000000  6.000000e+05       4.000000         0.000000   \n",
       "50%      29.000000  9.000000e+05       5.000000         0.000000   \n",
       "75%      32.000000  1.250000e+06       6.000000         1.000000   \n",
       "max      35.000000  1.800000e+06       9.000000         1.000000   \n",
       "\n",
       "       TravelInsurance  \n",
       "count      1987.000000  \n",
       "mean          0.357323  \n",
       "std           0.479332  \n",
       "min           0.000000  \n",
       "25%           0.000000  \n",
       "50%           0.000000  \n",
       "75%           1.000000  \n",
       "max           1.000000  "
      ]
     },
     "execution_count": 6,
     "metadata": {},
     "output_type": "execute_result"
    }
   ],
   "source": [
    "df.describe()"
   ]
  },
  {
   "cell_type": "code",
   "execution_count": 7,
   "id": "1e69a325",
   "metadata": {
    "execution": {
     "iopub.execute_input": "2021-08-02T05:13:32.960519Z",
     "iopub.status.busy": "2021-08-02T05:13:32.959980Z",
     "iopub.status.idle": "2021-08-02T05:13:33.317688Z",
     "shell.execute_reply": "2021-08-02T05:13:33.317052Z",
     "shell.execute_reply.started": "2021-08-02T04:34:57.438866Z"
    },
    "papermill": {
     "duration": 0.418174,
     "end_time": "2021-08-02T05:13:33.317825",
     "exception": false,
     "start_time": "2021-08-02T05:13:32.899651",
     "status": "completed"
    },
    "tags": []
   },
   "outputs": [
    {
     "data": {
      "image/png": "[encoded data removed]",
      "text/plain": [
       "<Figure size 576x432 with 2 Axes>"
      ]
     },
     "metadata": {
      "needs_background": "light"
     },
     "output_type": "display_data"
    }
   ],
   "source": [
    "# Having a look at the correlation matrix\n",
    "\n",
    "fig, ax = plt.subplots(figsize=(8,6))\n",
    "sns.heatmap(df.corr(), annot=True, fmt='.1g', cmap=\"viridis\", cbar=True);"
   ]
  },
  {
   "cell_type": "code",
   "execution_count": 8,
   "id": "fad1d314",
   "metadata": {
    "execution": {
     "iopub.execute_input": "2021-08-02T05:13:33.432071Z",
     "iopub.status.busy": "2021-08-02T05:13:33.430146Z",
     "iopub.status.idle": "2021-08-02T05:13:33.594578Z",
     "shell.execute_reply": "2021-08-02T05:13:33.595126Z",
     "shell.execute_reply.started": "2021-08-02T04:34:57.831761Z"
    },
    "papermill": {
     "duration": 0.233476,
     "end_time": "2021-08-02T05:13:33.595289",
     "exception": false,
     "start_time": "2021-08-02T05:13:33.361813",
     "status": "completed"
    },
    "tags": []
   },
   "outputs": [
    {
     "data": {
      "image/png": "[encoded data removed]",
      "text/plain": [
       "<Figure size 640x480 with 1 Axes>"
      ]
     },
     "metadata": {},
     "output_type": "display_data"
    }
   ],
   "source": [
    "plt.style.use(\"classic\")\n",
    "fig, ax = plt.subplots(figsize=(8,6))\n",
    "sns.countplot(df[\"Age\"]);"
   ]
  },
  {
   "cell_type": "markdown",
   "id": "9d617e20",
   "metadata": {
    "papermill": {
     "duration": 0.045933,
     "end_time": "2021-08-02T05:13:33.686314",
     "exception": false,
     "start_time": "2021-08-02T05:13:33.640381",
     "status": "completed"
    },
    "tags": []
   },
   "source": [
    "Most of the applications are from the people aged 28 and lowest from age 35.\n",
    "Maximum age of the applicant is 35 and the minimum is 25 years."
   ]
  },
  {
   "cell_type": "code",
   "execution_count": 9,
   "id": "2b25b9f5",
   "metadata": {
    "execution": {
     "iopub.execute_input": "2021-08-02T05:13:33.778691Z",
     "iopub.status.busy": "2021-08-02T05:13:33.778143Z",
     "iopub.status.idle": "2021-08-02T05:13:33.938565Z",
     "shell.execute_reply": "2021-08-02T05:13:33.939115Z",
     "shell.execute_reply.started": "2021-08-02T04:34:58.063933Z"
    },
    "papermill": {
     "duration": 0.208132,
     "end_time": "2021-08-02T05:13:33.939287",
     "exception": false,
     "start_time": "2021-08-02T05:13:33.731155",
     "status": "completed"
    },
    "tags": []
   },
   "outputs": [
    {
     "data": {
      "image/png": "[encoded data removed]",
      "text/plain": [
       "<Figure size 640x480 with 1 Axes>"
      ]
     },
     "metadata": {},
     "output_type": "display_data"
    }
   ],
   "source": [
    "plt.style.use(\"classic\")\n",
    "fig, ax = plt.subplots(figsize=(8,6))\n",
    "sns.countplot(df[\"FamilyMembers\"]);"
   ]
  },
  {
   "cell_type": "markdown",
   "id": "f71b3e5e",
   "metadata": {
    "papermill": {
     "duration": 0.045998,
     "end_time": "2021-08-02T05:13:34.031602",
     "exception": false,
     "start_time": "2021-08-02T05:13:33.985604",
     "status": "completed"
    },
    "tags": []
   },
   "source": [
    "Most of the family members count to 4 with lowest being 8 and 9."
   ]
  },
  {
   "cell_type": "code",
   "execution_count": 10,
   "id": "11134f7e",
   "metadata": {
    "execution": {
     "iopub.execute_input": "2021-08-02T05:13:34.126236Z",
     "iopub.status.busy": "2021-08-02T05:13:34.125675Z",
     "iopub.status.idle": "2021-08-02T05:13:34.446704Z",
     "shell.execute_reply": "2021-08-02T05:13:34.447147Z",
     "shell.execute_reply.started": "2021-08-02T04:34:58.267341Z"
    },
    "papermill": {
     "duration": 0.369784,
     "end_time": "2021-08-02T05:13:34.447300",
     "exception": false,
     "start_time": "2021-08-02T05:13:34.077516",
     "status": "completed"
    },
    "tags": []
   },
   "outputs": [
    {
     "data": {
      "image/png": "[encoded data removed]",
      "text/plain": [
       "<Figure size 640x480 with 1 Axes>"
      ]
     },
     "metadata": {},
     "output_type": "display_data"
    }
   ],
   "source": [
    "plt.style.use(\"classic\")\n",
    "fig, ax = plt.subplots(figsize=(8,6))\n",
    "sns.distplot(df[\"AnnualIncome\"], color=\"g\")\n",
    "plt.title(f\"Annual Income Distribution [ \\u03BC: {df['AnnualIncome'].mean():.2f} ]\")\n",
    "plt.show()"
   ]
  },
  {
   "cell_type": "code",
   "execution_count": 11,
   "id": "58755437",
   "metadata": {
    "execution": {
     "iopub.execute_input": "2021-08-02T05:13:34.571773Z",
     "iopub.status.busy": "2021-08-02T05:13:34.566381Z",
     "iopub.status.idle": "2021-08-02T05:13:34.646532Z",
     "shell.execute_reply": "2021-08-02T05:13:34.646930Z",
     "shell.execute_reply.started": "2021-08-02T04:34:58.513947Z"
    },
    "papermill": {
     "duration": 0.152057,
     "end_time": "2021-08-02T05:13:34.647076",
     "exception": false,
     "start_time": "2021-08-02T05:13:34.495019",
     "status": "completed"
    },
    "tags": []
   },
   "outputs": [
    {
     "data": {
      "image/png": "[encoded data removed]",
      "text/plain": [
       "<Figure size 640x480 with 1 Axes>"
      ]
     },
     "metadata": {},
     "output_type": "display_data"
    }
   ],
   "source": [
    "plt.style.use(\"seaborn\")\n",
    "fig, ax = plt.subplots(figsize=(8,6))\n",
    "plt.pie(x=df[\"ChronicDiseases\"].value_counts(), \n",
    "        colors=[\"crimson\",\"firebrick\"], \n",
    "        labels=[\"Non-Chronic\",\"Chronic\"], \n",
    "        shadow = True, \n",
    "        explode = (0, 0.1)\n",
    "        )\n",
    "plt.show()"
   ]
  },
  {
   "cell_type": "code",
   "execution_count": 12,
   "id": "aed3203c",
   "metadata": {
    "execution": {
     "iopub.execute_input": "2021-08-02T05:13:34.773214Z",
     "iopub.status.busy": "2021-08-02T05:13:34.769181Z",
     "iopub.status.idle": "2021-08-02T05:13:34.880043Z",
     "shell.execute_reply": "2021-08-02T05:13:34.880436Z",
     "shell.execute_reply.started": "2021-08-02T04:34:58.634578Z"
    },
    "papermill": {
     "duration": 0.184142,
     "end_time": "2021-08-02T05:13:34.880591",
     "exception": false,
     "start_time": "2021-08-02T05:13:34.696449",
     "status": "completed"
    },
    "tags": []
   },
   "outputs": [
    {
     "data": {
      "image/png": "[encoded data removed]",
      "text/plain": [
       "<Figure size 640x480 with 1 Axes>"
      ]
     },
     "metadata": {},
     "output_type": "display_data"
    }
   ],
   "source": [
    "plt.style.use(\"classic\")\n",
    "fig, ax = plt.subplots(figsize=(8,6))\n",
    "sns.countplot(x=df[\"FrequentFlyer\"], palette=\"crest\");"
   ]
  },
  {
   "cell_type": "markdown",
   "id": "af266db5",
   "metadata": {
    "papermill": {
     "duration": 0.049102,
     "end_time": "2021-08-02T05:13:34.978552",
     "exception": false,
     "start_time": "2021-08-02T05:13:34.929450",
     "status": "completed"
    },
    "tags": []
   },
   "source": [
    "Most of the applicants are `Non Frequent Flyers`"
   ]
  },
  {
   "cell_type": "code",
   "execution_count": 13,
   "id": "fffe8cba",
   "metadata": {
    "execution": {
     "iopub.execute_input": "2021-08-02T05:13:35.194123Z",
     "iopub.status.busy": "2021-08-02T05:13:35.192862Z",
     "iopub.status.idle": "2021-08-02T05:13:35.287411Z",
     "shell.execute_reply": "2021-08-02T05:13:35.286985Z",
     "shell.execute_reply.started": "2021-08-02T04:34:58.798008Z"
    },
    "papermill": {
     "duration": 0.260128,
     "end_time": "2021-08-02T05:13:35.287614",
     "exception": false,
     "start_time": "2021-08-02T05:13:35.027486",
     "status": "completed"
    },
    "tags": []
   },
   "outputs": [
    {
     "data": {
      "image/png": "[encoded data removed]",
      "text/plain": [
       "<Figure size 640x480 with 1 Axes>"
      ]
     },
     "metadata": {},
     "output_type": "display_data"
    }
   ],
   "source": [
    "plt.style.use(\"seaborn\")\n",
    "fig, ax = plt.subplots(figsize=(8,6))\n",
    "plt.pie(x=df[\"EverTravelledAbroad\"].value_counts(), \n",
    "        colors=[\"mediumorchid\",\"darkorchid\"], \n",
    "        labels=[\"Non Abroad Travellers\",\"Abroad Travellers\"], \n",
    "        shadow = True, \n",
    "        explode = (0, 0.1)\n",
    "        )\n",
    "plt.show()"
   ]
  },
  {
   "cell_type": "markdown",
   "id": "b632f378",
   "metadata": {
    "papermill": {
     "duration": 0.050253,
     "end_time": "2021-08-02T05:13:35.390741",
     "exception": false,
     "start_time": "2021-08-02T05:13:35.340488",
     "status": "completed"
    },
    "tags": []
   },
   "source": [
    "Most of the applicants are `Non Abroad Travellers`"
   ]
  },
  {
   "cell_type": "code",
   "execution_count": 14,
   "id": "a4d93b22",
   "metadata": {
    "execution": {
     "iopub.execute_input": "2021-08-02T05:13:35.498217Z",
     "iopub.status.busy": "2021-08-02T05:13:35.497690Z",
     "iopub.status.idle": "2021-08-02T05:13:35.584670Z",
     "shell.execute_reply": "2021-08-02T05:13:35.585201Z",
     "shell.execute_reply.started": "2021-08-02T04:34:59.104835Z"
    },
    "papermill": {
     "duration": 0.144588,
     "end_time": "2021-08-02T05:13:35.585343",
     "exception": false,
     "start_time": "2021-08-02T05:13:35.440755",
     "status": "completed"
    },
    "tags": []
   },
   "outputs": [
    {
     "data": {
      "image/png": "[encoded data removed]",
      "text/plain": [
       "<Figure size 640x480 with 1 Axes>"
      ]
     },
     "metadata": {},
     "output_type": "display_data"
    }
   ],
   "source": [
    "fig, ax = plt.subplots(figsize=(8,6))\n",
    "plt.pie(x=df[\"TravelInsurance\"].value_counts(), \n",
    "        colors=[\"darkorange\",\"orange\"], \n",
    "        labels=[\"Don't have Travel Insurance\",\"Have Travel Insurance\"], \n",
    "        shadow = True, \n",
    "        explode = (0, 0.07)\n",
    "        )\n",
    "plt.show()"
   ]
  },
  {
   "cell_type": "markdown",
   "id": "4bc07e5f",
   "metadata": {
    "papermill": {
     "duration": 0.051738,
     "end_time": "2021-08-02T05:13:35.688958",
     "exception": false,
     "start_time": "2021-08-02T05:13:35.637220",
     "status": "completed"
    },
    "tags": []
   },
   "source": [
    "Most of the flyers `don't have a Travel Insurance`"
   ]
  },
  {
   "cell_type": "markdown",
   "id": "f4858107",
   "metadata": {
    "papermill": {
     "duration": 0.051079,
     "end_time": "2021-08-02T05:13:35.792046",
     "exception": false,
     "start_time": "2021-08-02T05:13:35.740967",
     "status": "completed"
    },
    "tags": []
   },
   "source": [
    "## Making the dataset all numerical"
   ]
  },
  {
   "cell_type": "code",
   "execution_count": 15,
   "id": "85b55e75",
   "metadata": {
    "execution": {
     "iopub.execute_input": "2021-08-02T05:13:35.896853Z",
     "iopub.status.busy": "2021-08-02T05:13:35.896324Z",
     "iopub.status.idle": "2021-08-02T05:13:35.904380Z",
     "shell.execute_reply": "2021-08-02T05:13:35.904851Z",
     "shell.execute_reply.started": "2021-08-02T04:34:59.229120Z"
    },
    "papermill": {
     "duration": 0.06169,
     "end_time": "2021-08-02T05:13:35.905016",
     "exception": false,
     "start_time": "2021-08-02T05:13:35.843326",
     "status": "completed"
    },
    "tags": []
   },
   "outputs": [],
   "source": [
    "# Yes : 1 , No : 0\n",
    "df['FrequentFlyer'] = df['FrequentFlyer'].map({'Yes': 1, 'No': 0})\n",
    "df['EverTravelledAbroad'] = df['EverTravelledAbroad'].map({'Yes': 1, 'No': 0})\n",
    "\n",
    "# Government Sector : 1, Private Sector/Self Employed : 0\n",
    "df[\"Employment Type\"] = df[\"Employment Type\"].map({\"Government Sector\" : 1, \"Private Sector/Self Employed\" : 0})"
   ]
  },
  {
   "cell_type": "code",
   "execution_count": 16,
   "id": "2e34ad96",
   "metadata": {
    "execution": {
     "iopub.execute_input": "2021-08-02T05:13:36.017911Z",
     "iopub.status.busy": "2021-08-02T05:13:36.013911Z",
     "iopub.status.idle": "2021-08-02T05:13:36.020924Z",
     "shell.execute_reply": "2021-08-02T05:13:36.021326Z",
     "shell.execute_reply.started": "2021-08-02T04:34:59.244494Z"
    },
    "papermill": {
     "duration": 0.064303,
     "end_time": "2021-08-02T05:13:36.021461",
     "exception": false,
     "start_time": "2021-08-02T05:13:35.957158",
     "status": "completed"
    },
    "tags": []
   },
   "outputs": [
    {
     "data": {
      "text/html": [
       "<div>\n",
       "<style scoped>\n",
       "    .dataframe tbody tr th:only-of-type {\n",
       "        vertical-align: middle;\n",
       "    }\n",
       "\n",
       "    .dataframe tbody tr th {\n",
       "        vertical-align: top;\n",
       "    }\n",
       "\n",
       "    .dataframe thead th {\n",
       "        text-align: right;\n",
       "    }\n",
       "</style>\n",
       "<table border=\"1\" class=\"dataframe\">\n",
       "  <thead>\n",
       "    <tr style=\"text-align: right;\">\n",
       "      <th></th>\n",
       "      <th>Age</th>\n",
       "      <th>Employment Type</th>\n",
       "      <th>AnnualIncome</th>\n",
       "      <th>FamilyMembers</th>\n",
       "      <th>ChronicDiseases</th>\n",
       "      <th>FrequentFlyer</th>\n",
       "      <th>EverTravelledAbroad</th>\n",
       "      <th>TravelInsurance</th>\n",
       "    </tr>\n",
       "  </thead>\n",
       "  <tbody>\n",
       "    <tr>\n",
       "      <th>0</th>\n",
       "      <td>31</td>\n",
       "      <td>1</td>\n",
       "      <td>400000</td>\n",
       "      <td>6</td>\n",
       "      <td>1</td>\n",
       "      <td>0</td>\n",
       "      <td>0</td>\n",
       "      <td>0</td>\n",
       "    </tr>\n",
       "    <tr>\n",
       "      <th>1</th>\n",
       "      <td>31</td>\n",
       "      <td>0</td>\n",
       "      <td>1250000</td>\n",
       "      <td>7</td>\n",
       "      <td>0</td>\n",
       "      <td>0</td>\n",
       "      <td>0</td>\n",
       "      <td>0</td>\n",
       "    </tr>\n",
       "    <tr>\n",
       "      <th>2</th>\n",
       "      <td>34</td>\n",
       "      <td>0</td>\n",
       "      <td>500000</td>\n",
       "      <td>4</td>\n",
       "      <td>1</td>\n",
       "      <td>0</td>\n",
       "      <td>0</td>\n",
       "      <td>1</td>\n",
       "    </tr>\n",
       "    <tr>\n",
       "      <th>3</th>\n",
       "      <td>28</td>\n",
       "      <td>0</td>\n",
       "      <td>700000</td>\n",
       "      <td>3</td>\n",
       "      <td>1</td>\n",
       "      <td>0</td>\n",
       "      <td>0</td>\n",
       "      <td>0</td>\n",
       "    </tr>\n",
       "    <tr>\n",
       "      <th>4</th>\n",
       "      <td>28</td>\n",
       "      <td>0</td>\n",
       "      <td>700000</td>\n",
       "      <td>8</td>\n",
       "      <td>1</td>\n",
       "      <td>1</td>\n",
       "      <td>0</td>\n",
       "      <td>0</td>\n",
       "    </tr>\n",
       "  </tbody>\n",
       "</table>\n",
       "</div>"
      ],
      "text/plain": [
       "   Age  Employment Type  AnnualIncome  FamilyMembers  ChronicDiseases  \\\n",
       "0   31                1        400000              6                1   \n",
       "1   31                0       1250000              7                0   \n",
       "2   34                0        500000              4                1   \n",
       "3   28                0        700000              3                1   \n",
       "4   28                0        700000              8                1   \n",
       "\n",
       "   FrequentFlyer  EverTravelledAbroad  TravelInsurance  \n",
       "0              0                    0                0  \n",
       "1              0                    0                0  \n",
       "2              0                    0                1  \n",
       "3              0                    0                0  \n",
       "4              1                    0                0  "
      ]
     },
     "execution_count": 16,
     "metadata": {},
     "output_type": "execute_result"
    }
   ],
   "source": [
    "# Having a look at the dataset after the numerical transformation\n",
    "df.head()"
   ]
  },
  {
   "cell_type": "markdown",
   "id": "696d3bbf",
   "metadata": {
    "papermill": {
     "duration": 0.053089,
     "end_time": "2021-08-02T05:13:36.126076",
     "exception": false,
     "start_time": "2021-08-02T05:13:36.072987",
     "status": "completed"
    },
    "tags": []
   },
   "source": [
    "## Splitting the data into training and test datasets\n",
    "Here, we are trying to predict whether the traveller has a Travel Insurance or not using the given data. Hence, the `TravelInsurance` will be the y label and rest of the data will be the X or the input data."
   ]
  },
  {
   "cell_type": "code",
   "execution_count": 17,
   "id": "926c0d35",
   "metadata": {
    "execution": {
     "iopub.execute_input": "2021-08-02T05:13:36.233813Z",
     "iopub.status.busy": "2021-08-02T05:13:36.232969Z",
     "iopub.status.idle": "2021-08-02T05:13:36.237618Z",
     "shell.execute_reply": "2021-08-02T05:13:36.238114Z",
     "shell.execute_reply.started": "2021-08-02T04:34:59.270204Z"
    },
    "papermill": {
     "duration": 0.059637,
     "end_time": "2021-08-02T05:13:36.238259",
     "exception": false,
     "start_time": "2021-08-02T05:13:36.178622",
     "status": "completed"
    },
    "tags": []
   },
   "outputs": [],
   "source": [
    "# X data\n",
    "X = df.drop(\"TravelInsurance\", axis=1)"
   ]
  },
  {
   "cell_type": "code",
   "execution_count": 18,
   "id": "757f0435",
   "metadata": {
    "execution": {
     "iopub.execute_input": "2021-08-02T05:13:36.345315Z",
     "iopub.status.busy": "2021-08-02T05:13:36.344471Z",
     "iopub.status.idle": "2021-08-02T05:13:36.355646Z",
     "shell.execute_reply": "2021-08-02T05:13:36.356111Z",
     "shell.execute_reply.started": "2021-08-02T04:34:59.287261Z"
    },
    "papermill": {
     "duration": 0.065922,
     "end_time": "2021-08-02T05:13:36.356258",
     "exception": false,
     "start_time": "2021-08-02T05:13:36.290336",
     "status": "completed"
    },
    "tags": []
   },
   "outputs": [
    {
     "data": {
      "text/html": [
       "<div>\n",
       "<style scoped>\n",
       "    .dataframe tbody tr th:only-of-type {\n",
       "        vertical-align: middle;\n",
       "    }\n",
       "\n",
       "    .dataframe tbody tr th {\n",
       "        vertical-align: top;\n",
       "    }\n",
       "\n",
       "    .dataframe thead th {\n",
       "        text-align: right;\n",
       "    }\n",
       "</style>\n",
       "<table border=\"1\" class=\"dataframe\">\n",
       "  <thead>\n",
       "    <tr style=\"text-align: right;\">\n",
       "      <th></th>\n",
       "      <th>Age</th>\n",
       "      <th>Employment Type</th>\n",
       "      <th>AnnualIncome</th>\n",
       "      <th>FamilyMembers</th>\n",
       "      <th>ChronicDiseases</th>\n",
       "      <th>FrequentFlyer</th>\n",
       "      <th>EverTravelledAbroad</th>\n",
       "    </tr>\n",
       "  </thead>\n",
       "  <tbody>\n",
       "    <tr>\n",
       "      <th>0</th>\n",
       "      <td>31</td>\n",
       "      <td>1</td>\n",
       "      <td>400000</td>\n",
       "      <td>6</td>\n",
       "      <td>1</td>\n",
       "      <td>0</td>\n",
       "      <td>0</td>\n",
       "    </tr>\n",
       "    <tr>\n",
       "      <th>1</th>\n",
       "      <td>31</td>\n",
       "      <td>0</td>\n",
       "      <td>1250000</td>\n",
       "      <td>7</td>\n",
       "      <td>0</td>\n",
       "      <td>0</td>\n",
       "      <td>0</td>\n",
       "    </tr>\n",
       "    <tr>\n",
       "      <th>2</th>\n",
       "      <td>34</td>\n",
       "      <td>0</td>\n",
       "      <td>500000</td>\n",
       "      <td>4</td>\n",
       "      <td>1</td>\n",
       "      <td>0</td>\n",
       "      <td>0</td>\n",
       "    </tr>\n",
       "    <tr>\n",
       "      <th>3</th>\n",
       "      <td>28</td>\n",
       "      <td>0</td>\n",
       "      <td>700000</td>\n",
       "      <td>3</td>\n",
       "      <td>1</td>\n",
       "      <td>0</td>\n",
       "      <td>0</td>\n",
       "    </tr>\n",
       "    <tr>\n",
       "      <th>4</th>\n",
       "      <td>28</td>\n",
       "      <td>0</td>\n",
       "      <td>700000</td>\n",
       "      <td>8</td>\n",
       "      <td>1</td>\n",
       "      <td>1</td>\n",
       "      <td>0</td>\n",
       "    </tr>\n",
       "  </tbody>\n",
       "</table>\n",
       "</div>"
      ],
      "text/plain": [
       "   Age  Employment Type  AnnualIncome  FamilyMembers  ChronicDiseases  \\\n",
       "0   31                1        400000              6                1   \n",
       "1   31                0       1250000              7                0   \n",
       "2   34                0        500000              4                1   \n",
       "3   28                0        700000              3                1   \n",
       "4   28                0        700000              8                1   \n",
       "\n",
       "   FrequentFlyer  EverTravelledAbroad  \n",
       "0              0                    0  \n",
       "1              0                    0  \n",
       "2              0                    0  \n",
       "3              0                    0  \n",
       "4              1                    0  "
      ]
     },
     "execution_count": 18,
     "metadata": {},
     "output_type": "execute_result"
    }
   ],
   "source": [
    "X.head()"
   ]
  },
  {
   "cell_type": "code",
   "execution_count": 19,
   "id": "94c34609",
   "metadata": {
    "execution": {
     "iopub.execute_input": "2021-08-02T05:13:36.465321Z",
     "iopub.status.busy": "2021-08-02T05:13:36.464527Z",
     "iopub.status.idle": "2021-08-02T05:13:36.467548Z",
     "shell.execute_reply": "2021-08-02T05:13:36.468090Z",
     "shell.execute_reply.started": "2021-08-02T04:34:59.311406Z"
    },
    "papermill": {
     "duration": 0.060496,
     "end_time": "2021-08-02T05:13:36.468241",
     "exception": false,
     "start_time": "2021-08-02T05:13:36.407745",
     "status": "completed"
    },
    "tags": []
   },
   "outputs": [
    {
     "data": {
      "text/plain": [
       "0    0\n",
       "1    0\n",
       "2    1\n",
       "3    0\n",
       "4    0\n",
       "Name: TravelInsurance, dtype: int64"
      ]
     },
     "execution_count": 19,
     "metadata": {},
     "output_type": "execute_result"
    }
   ],
   "source": [
    "# y data\n",
    "y = df[\"TravelInsurance\"]\n",
    "y.head()"
   ]
  },
  {
   "cell_type": "code",
   "execution_count": 20,
   "id": "6a626980",
   "metadata": {
    "execution": {
     "iopub.execute_input": "2021-08-02T05:13:36.574368Z",
     "iopub.status.busy": "2021-08-02T05:13:36.573496Z",
     "iopub.status.idle": "2021-08-02T05:13:36.731960Z",
     "shell.execute_reply": "2021-08-02T05:13:36.731352Z",
     "shell.execute_reply.started": "2021-08-02T04:34:59.325499Z"
    },
    "papermill": {
     "duration": 0.21197,
     "end_time": "2021-08-02T05:13:36.732086",
     "exception": false,
     "start_time": "2021-08-02T05:13:36.520116",
     "status": "completed"
    },
    "tags": []
   },
   "outputs": [],
   "source": [
    "# Splitting the data into X train, X test and y train, y test\n",
    "\n",
    "from sklearn.model_selection import train_test_split\n",
    "X_train, X_test, y_train, y_test = train_test_split(X,y,test_size=0.2, random_state=42)"
   ]
  },
  {
   "cell_type": "code",
   "execution_count": 21,
   "id": "d559ed3c",
   "metadata": {
    "execution": {
     "iopub.execute_input": "2021-08-02T05:13:36.841780Z",
     "iopub.status.busy": "2021-08-02T05:13:36.841230Z",
     "iopub.status.idle": "2021-08-02T05:13:36.843630Z",
     "shell.execute_reply": "2021-08-02T05:13:36.844106Z",
     "shell.execute_reply.started": "2021-08-02T04:34:59.398071Z"
    },
    "papermill": {
     "duration": 0.059325,
     "end_time": "2021-08-02T05:13:36.844256",
     "exception": false,
     "start_time": "2021-08-02T05:13:36.784931",
     "status": "completed"
    },
    "tags": []
   },
   "outputs": [
    {
     "data": {
      "text/plain": [
       "(1589, 398)"
      ]
     },
     "execution_count": 21,
     "metadata": {},
     "output_type": "execute_result"
    }
   ],
   "source": [
    "len(X_train), len(X_test)"
   ]
  },
  {
   "cell_type": "markdown",
   "id": "6cfa20b1",
   "metadata": {
    "papermill": {
     "duration": 0.052506,
     "end_time": "2021-08-02T05:13:36.949132",
     "exception": false,
     "start_time": "2021-08-02T05:13:36.896626",
     "status": "completed"
    },
    "tags": []
   },
   "source": [
    "## Training the Model"
   ]
  },
  {
   "cell_type": "markdown",
   "id": "ec1e7939",
   "metadata": {
    "papermill": {
     "duration": 0.05273,
     "end_time": "2021-08-02T05:13:37.054426",
     "exception": false,
     "start_time": "2021-08-02T05:13:37.001696",
     "status": "completed"
    },
    "tags": []
   },
   "source": [
    "## Random Forest Classifier "
   ]
  },
  {
   "cell_type": "code",
   "execution_count": 22,
   "id": "c493ee01",
   "metadata": {
    "execution": {
     "iopub.execute_input": "2021-08-02T05:13:37.162911Z",
     "iopub.status.busy": "2021-08-02T05:13:37.162382Z",
     "iopub.status.idle": "2021-08-02T05:13:37.337457Z",
     "shell.execute_reply": "2021-08-02T05:13:37.336955Z",
     "shell.execute_reply.started": "2021-08-02T04:34:59.407162Z"
    },
    "papermill": {
     "duration": 0.229764,
     "end_time": "2021-08-02T05:13:37.337583",
     "exception": false,
     "start_time": "2021-08-02T05:13:37.107819",
     "status": "completed"
    },
    "tags": []
   },
   "outputs": [],
   "source": [
    "from sklearn.ensemble import RandomForestClassifier\n",
    "rf = RandomForestClassifier()"
   ]
  },
  {
   "cell_type": "code",
   "execution_count": 23,
   "id": "7120c7ed",
   "metadata": {
    "execution": {
     "iopub.execute_input": "2021-08-02T05:13:37.450639Z",
     "iopub.status.busy": "2021-08-02T05:13:37.449763Z",
     "iopub.status.idle": "2021-08-02T05:13:37.698356Z",
     "shell.execute_reply": "2021-08-02T05:13:37.697907Z",
     "shell.execute_reply.started": "2021-08-02T04:34:59.478313Z"
    },
    "papermill": {
     "duration": 0.30676,
     "end_time": "2021-08-02T05:13:37.698477",
     "exception": false,
     "start_time": "2021-08-02T05:13:37.391717",
     "status": "completed"
    },
    "tags": []
   },
   "outputs": [
    {
     "data": {
      "text/plain": [
       "RandomForestClassifier()"
      ]
     },
     "execution_count": 23,
     "metadata": {},
     "output_type": "execute_result"
    }
   ],
   "source": [
    "rf.fit(X_train, y_train)"
   ]
  },
  {
   "cell_type": "code",
   "execution_count": 24,
   "id": "3419d333",
   "metadata": {
    "execution": {
     "iopub.execute_input": "2021-08-02T05:13:37.811399Z",
     "iopub.status.busy": "2021-08-02T05:13:37.810783Z",
     "iopub.status.idle": "2021-08-02T05:13:37.830115Z",
     "shell.execute_reply": "2021-08-02T05:13:37.830482Z",
     "shell.execute_reply.started": "2021-08-02T04:34:59.759653Z"
    },
    "papermill": {
     "duration": 0.078227,
     "end_time": "2021-08-02T05:13:37.830615",
     "exception": false,
     "start_time": "2021-08-02T05:13:37.752388",
     "status": "completed"
    },
    "tags": []
   },
   "outputs": [
    {
     "data": {
      "text/plain": [
       "0.8015075376884422"
      ]
     },
     "execution_count": 24,
     "metadata": {},
     "output_type": "execute_result"
    }
   ],
   "source": [
    "RandomForestClassifierScore = rf.score(X_test,y_test)\n",
    "RandomForestClassifierScore"
   ]
  },
  {
   "cell_type": "code",
   "execution_count": 25,
   "id": "b1dea979",
   "metadata": {
    "execution": {
     "iopub.execute_input": "2021-08-02T05:13:37.942735Z",
     "iopub.status.busy": "2021-08-02T05:13:37.941942Z",
     "iopub.status.idle": "2021-08-02T05:13:37.945586Z",
     "shell.execute_reply": "2021-08-02T05:13:37.946063Z",
     "shell.execute_reply.started": "2021-08-02T04:34:59.793632Z"
    },
    "papermill": {
     "duration": 0.062395,
     "end_time": "2021-08-02T05:13:37.946193",
     "exception": false,
     "start_time": "2021-08-02T05:13:37.883798",
     "status": "completed"
    },
    "tags": []
   },
   "outputs": [
    {
     "name": "stdout",
     "output_type": "stream",
     "text": [
      "Accuracy obtained by RandomForestClassifier model: 80.15075376884423\n"
     ]
    }
   ],
   "source": [
    "print(\"Accuracy obtained by RandomForestClassifier model:\", RandomForestClassifierScore*100)"
   ]
  },
  {
   "cell_type": "markdown",
   "id": "d54c98cd",
   "metadata": {
    "papermill": {
     "duration": 0.052678,
     "end_time": "2021-08-02T05:13:38.052004",
     "exception": false,
     "start_time": "2021-08-02T05:13:37.999326",
     "status": "completed"
    },
    "tags": []
   },
   "source": [
    "## Logistic Regression"
   ]
  },
  {
   "cell_type": "code",
   "execution_count": 26,
   "id": "6a5cdc94",
   "metadata": {
    "execution": {
     "iopub.execute_input": "2021-08-02T05:13:38.161513Z",
     "iopub.status.busy": "2021-08-02T05:13:38.160956Z",
     "iopub.status.idle": "2021-08-02T05:13:38.162633Z",
     "shell.execute_reply": "2021-08-02T05:13:38.163117Z",
     "shell.execute_reply.started": "2021-08-02T04:34:59.801861Z"
    },
    "papermill": {
     "duration": 0.05819,
     "end_time": "2021-08-02T05:13:38.163244",
     "exception": false,
     "start_time": "2021-08-02T05:13:38.105054",
     "status": "completed"
    },
    "tags": []
   },
   "outputs": [],
   "source": [
    "from sklearn.linear_model import LogisticRegression\n",
    "lr = LogisticRegression()"
   ]
  },
  {
   "cell_type": "code",
   "execution_count": 27,
   "id": "2a1397aa",
   "metadata": {
    "execution": {
     "iopub.execute_input": "2021-08-02T05:13:38.271485Z",
     "iopub.status.busy": "2021-08-02T05:13:38.270979Z",
     "iopub.status.idle": "2021-08-02T05:13:38.293864Z",
     "shell.execute_reply": "2021-08-02T05:13:38.294802Z",
     "shell.execute_reply.started": "2021-08-02T04:34:59.815354Z"
    },
    "papermill": {
     "duration": 0.078841,
     "end_time": "2021-08-02T05:13:38.295050",
     "exception": false,
     "start_time": "2021-08-02T05:13:38.216209",
     "status": "completed"
    },
    "tags": []
   },
   "outputs": [
    {
     "data": {
      "text/plain": [
       "LogisticRegression()"
      ]
     },
     "execution_count": 27,
     "metadata": {},
     "output_type": "execute_result"
    }
   ],
   "source": [
    "lr.fit(X_train, y_train)"
   ]
  },
  {
   "cell_type": "code",
   "execution_count": 28,
   "id": "1f1b7dbe",
   "metadata": {
    "execution": {
     "iopub.execute_input": "2021-08-02T05:13:38.458211Z",
     "iopub.status.busy": "2021-08-02T05:13:38.457702Z",
     "iopub.status.idle": "2021-08-02T05:13:38.461921Z",
     "shell.execute_reply": "2021-08-02T05:13:38.462380Z",
     "shell.execute_reply.started": "2021-08-02T04:34:59.847086Z"
    },
    "papermill": {
     "duration": 0.072363,
     "end_time": "2021-08-02T05:13:38.462523",
     "exception": false,
     "start_time": "2021-08-02T05:13:38.390160",
     "status": "completed"
    },
    "tags": []
   },
   "outputs": [
    {
     "data": {
      "text/plain": [
       "0.6457286432160804"
      ]
     },
     "execution_count": 28,
     "metadata": {},
     "output_type": "execute_result"
    }
   ],
   "source": [
    "LogisticRegressionScore = lr.score(X_test,y_test)\n",
    "LogisticRegressionScore"
   ]
  },
  {
   "cell_type": "code",
   "execution_count": 29,
   "id": "d1d8321b",
   "metadata": {
    "execution": {
     "iopub.execute_input": "2021-08-02T05:13:38.574133Z",
     "iopub.status.busy": "2021-08-02T05:13:38.573591Z",
     "iopub.status.idle": "2021-08-02T05:13:38.577851Z",
     "shell.execute_reply": "2021-08-02T05:13:38.578336Z",
     "shell.execute_reply.started": "2021-08-02T04:34:59.867022Z"
    },
    "papermill": {
     "duration": 0.061136,
     "end_time": "2021-08-02T05:13:38.578464",
     "exception": false,
     "start_time": "2021-08-02T05:13:38.517328",
     "status": "completed"
    },
    "tags": []
   },
   "outputs": [
    {
     "name": "stdout",
     "output_type": "stream",
     "text": [
      "Accuracy obtained by Logistic Regression model: 64.57286432160804\n"
     ]
    }
   ],
   "source": [
    "print(\"Accuracy obtained by Logistic Regression model:\",LogisticRegressionScore*100)"
   ]
  },
  {
   "cell_type": "markdown",
   "id": "73c24785",
   "metadata": {
    "papermill": {
     "duration": 0.054858,
     "end_time": "2021-08-02T05:13:38.688026",
     "exception": false,
     "start_time": "2021-08-02T05:13:38.633168",
     "status": "completed"
    },
    "tags": []
   },
   "source": [
    "## KNeighbors Classifier"
   ]
  },
  {
   "cell_type": "code",
   "execution_count": 30,
   "id": "f153193b",
   "metadata": {
    "execution": {
     "iopub.execute_input": "2021-08-02T05:13:38.800976Z",
     "iopub.status.busy": "2021-08-02T05:13:38.800412Z",
     "iopub.status.idle": "2021-08-02T05:13:38.803814Z",
     "shell.execute_reply": "2021-08-02T05:13:38.804354Z",
     "shell.execute_reply.started": "2021-08-02T04:34:59.884492Z"
    },
    "papermill": {
     "duration": 0.060681,
     "end_time": "2021-08-02T05:13:38.804495",
     "exception": false,
     "start_time": "2021-08-02T05:13:38.743814",
     "status": "completed"
    },
    "tags": []
   },
   "outputs": [],
   "source": [
    "from sklearn.neighbors import KNeighborsClassifier\n",
    "knn = KNeighborsClassifier(4)"
   ]
  },
  {
   "cell_type": "code",
   "execution_count": 31,
   "id": "932de958",
   "metadata": {
    "execution": {
     "iopub.execute_input": "2021-08-02T05:13:38.920041Z",
     "iopub.status.busy": "2021-08-02T05:13:38.919444Z",
     "iopub.status.idle": "2021-08-02T05:13:38.926623Z",
     "shell.execute_reply": "2021-08-02T05:13:38.926164Z",
     "shell.execute_reply.started": "2021-08-02T04:34:59.894361Z"
    },
    "papermill": {
     "duration": 0.067554,
     "end_time": "2021-08-02T05:13:38.926731",
     "exception": false,
     "start_time": "2021-08-02T05:13:38.859177",
     "status": "completed"
    },
    "tags": []
   },
   "outputs": [
    {
     "data": {
      "text/plain": [
       "KNeighborsClassifier(n_neighbors=4)"
      ]
     },
     "execution_count": 31,
     "metadata": {},
     "output_type": "execute_result"
    }
   ],
   "source": [
    "knn.fit(X_train, y_train)"
   ]
  },
  {
   "cell_type": "code",
   "execution_count": 32,
   "id": "defbdfad",
   "metadata": {
    "execution": {
     "iopub.execute_input": "2021-08-02T05:13:39.043784Z",
     "iopub.status.busy": "2021-08-02T05:13:39.043291Z",
     "iopub.status.idle": "2021-08-02T05:13:39.062569Z",
     "shell.execute_reply": "2021-08-02T05:13:39.062176Z",
     "shell.execute_reply.started": "2021-08-02T04:34:59.920812Z"
    },
    "papermill": {
     "duration": 0.080021,
     "end_time": "2021-08-02T05:13:39.062676",
     "exception": false,
     "start_time": "2021-08-02T05:13:38.982655",
     "status": "completed"
    },
    "tags": []
   },
   "outputs": [
    {
     "data": {
      "text/plain": [
       "0.821608040201005"
      ]
     },
     "execution_count": 32,
     "metadata": {},
     "output_type": "execute_result"
    }
   ],
   "source": [
    "KNeighborsClassifierScore = knn.score(X_test,y_test)\n",
    "KNeighborsClassifierScore"
   ]
  },
  {
   "cell_type": "code",
   "execution_count": 33,
   "id": "5538fac5",
   "metadata": {
    "execution": {
     "iopub.execute_input": "2021-08-02T05:13:39.177421Z",
     "iopub.status.busy": "2021-08-02T05:13:39.176815Z",
     "iopub.status.idle": "2021-08-02T05:13:39.179799Z",
     "shell.execute_reply": "2021-08-02T05:13:39.179210Z",
     "shell.execute_reply.started": "2021-08-02T04:34:59.965667Z"
    },
    "papermill": {
     "duration": 0.061555,
     "end_time": "2021-08-02T05:13:39.179936",
     "exception": false,
     "start_time": "2021-08-02T05:13:39.118381",
     "status": "completed"
    },
    "tags": []
   },
   "outputs": [
    {
     "name": "stdout",
     "output_type": "stream",
     "text": [
      "Accuracy obtained by KNeighborsClassifier model: 82.1608040201005\n"
     ]
    }
   ],
   "source": [
    "print(\"Accuracy obtained by KNeighborsClassifier model:\",KNeighborsClassifierScore*100)"
   ]
  },
  {
   "cell_type": "markdown",
   "id": "1b5312d8",
   "metadata": {
    "papermill": {
     "duration": 0.056632,
     "end_time": "2021-08-02T05:13:39.292080",
     "exception": false,
     "start_time": "2021-08-02T05:13:39.235448",
     "status": "completed"
    },
    "tags": []
   },
   "source": [
    "## CatBoost Classifier"
   ]
  },
  {
   "cell_type": "code",
   "execution_count": 34,
   "id": "aa7caec3",
   "metadata": {
    "execution": {
     "iopub.execute_input": "2021-08-02T05:13:39.406828Z",
     "iopub.status.busy": "2021-08-02T05:13:39.406290Z",
     "iopub.status.idle": "2021-08-02T05:13:39.721365Z",
     "shell.execute_reply": "2021-08-02T05:13:39.720769Z",
     "shell.execute_reply.started": "2021-08-02T04:34:59.975234Z"
    },
    "papermill": {
     "duration": 0.374169,
     "end_time": "2021-08-02T05:13:39.721508",
     "exception": false,
     "start_time": "2021-08-02T05:13:39.347339",
     "status": "completed"
    },
    "tags": []
   },
   "outputs": [
    {
     "name": "stdout",
     "output_type": "stream",
     "text": [
      "Learning rate set to 0.5\n",
      "0:\tlearn: 0.5406686\ttotal: 54ms\tremaining: 486ms\n",
      "1:\tlearn: 0.4887285\ttotal: 54.9ms\tremaining: 220ms\n",
      "2:\tlearn: 0.4661983\ttotal: 57.1ms\tremaining: 133ms\n",
      "3:\tlearn: 0.4502142\ttotal: 57.7ms\tremaining: 86.6ms\n",
      "4:\tlearn: 0.4441521\ttotal: 58.3ms\tremaining: 58.3ms\n",
      "5:\tlearn: 0.4361465\ttotal: 58.9ms\tremaining: 39.3ms\n",
      "6:\tlearn: 0.4304888\ttotal: 59.5ms\tremaining: 25.5ms\n",
      "7:\tlearn: 0.4246885\ttotal: 60ms\tremaining: 15ms\n",
      "8:\tlearn: 0.4195860\ttotal: 60.5ms\tremaining: 6.72ms\n",
      "9:\tlearn: 0.4150837\ttotal: 61.1ms\tremaining: 0us\n"
     ]
    }
   ],
   "source": [
    "from catboost import CatBoostClassifier\n",
    "cat = CatBoostClassifier(iterations=10)\n",
    "cat.fit(X_train, y_train);"
   ]
  },
  {
   "cell_type": "code",
   "execution_count": 35,
   "id": "11d9a171",
   "metadata": {
    "execution": {
     "iopub.execute_input": "2021-08-02T05:13:39.840984Z",
     "iopub.status.busy": "2021-08-02T05:13:39.840107Z",
     "iopub.status.idle": "2021-08-02T05:13:39.845941Z",
     "shell.execute_reply": "2021-08-02T05:13:39.845275Z",
     "shell.execute_reply.started": "2021-08-02T04:35:00.114145Z"
    },
    "papermill": {
     "duration": 0.067042,
     "end_time": "2021-08-02T05:13:39.846119",
     "exception": false,
     "start_time": "2021-08-02T05:13:39.779077",
     "status": "completed"
    },
    "tags": []
   },
   "outputs": [
    {
     "name": "stdout",
     "output_type": "stream",
     "text": [
      "Accuracy obtained by CatBoost Classifier model: 84.17085427135679\n"
     ]
    }
   ],
   "source": [
    "CatBoostClassifierScore = cat.score(X_test,y_test)\n",
    "print(\"Accuracy obtained by CatBoost Classifier model:\",CatBoostClassifierScore*100)"
   ]
  },
  {
   "cell_type": "markdown",
   "id": "a63fbc3a",
   "metadata": {
    "papermill": {
     "duration": 0.057285,
     "end_time": "2021-08-02T05:13:39.960394",
     "exception": false,
     "start_time": "2021-08-02T05:13:39.903109",
     "status": "completed"
    },
    "tags": []
   },
   "source": [
    "## Decision Tree Classifier"
   ]
  },
  {
   "cell_type": "code",
   "execution_count": 36,
   "id": "05f2f460",
   "metadata": {
    "execution": {
     "iopub.execute_input": "2021-08-02T05:13:40.078773Z",
     "iopub.status.busy": "2021-08-02T05:13:40.078021Z",
     "iopub.status.idle": "2021-08-02T05:13:40.085584Z",
     "shell.execute_reply": "2021-08-02T05:13:40.085130Z",
     "shell.execute_reply.started": "2021-08-02T04:35:00.124172Z"
    },
    "papermill": {
     "duration": 0.069614,
     "end_time": "2021-08-02T05:13:40.085697",
     "exception": false,
     "start_time": "2021-08-02T05:13:40.016083",
     "status": "completed"
    },
    "tags": []
   },
   "outputs": [
    {
     "data": {
      "text/plain": [
       "DecisionTreeClassifier()"
      ]
     },
     "execution_count": 36,
     "metadata": {},
     "output_type": "execute_result"
    }
   ],
   "source": [
    "from sklearn.tree import DecisionTreeClassifier\n",
    "tree = DecisionTreeClassifier()\n",
    "tree.fit(X_train,y_train)"
   ]
  },
  {
   "cell_type": "code",
   "execution_count": 37,
   "id": "53c9cf2c",
   "metadata": {
    "execution": {
     "iopub.execute_input": "2021-08-02T05:13:40.203741Z",
     "iopub.status.busy": "2021-08-02T05:13:40.203059Z",
     "iopub.status.idle": "2021-08-02T05:13:40.207163Z",
     "shell.execute_reply": "2021-08-02T05:13:40.207595Z",
     "shell.execute_reply.started": "2021-08-02T04:35:00.145367Z"
    },
    "papermill": {
     "duration": 0.065286,
     "end_time": "2021-08-02T05:13:40.207746",
     "exception": false,
     "start_time": "2021-08-02T05:13:40.142460",
     "status": "completed"
    },
    "tags": []
   },
   "outputs": [
    {
     "name": "stdout",
     "output_type": "stream",
     "text": [
      "Accuracy obtained by Decision Tree Classifier model: 80.65326633165829\n"
     ]
    }
   ],
   "source": [
    "DecisionTreeClassifierScore = tree.score(X_test,y_test)\n",
    "print(\"Accuracy obtained by Decision Tree Classifier model:\",DecisionTreeClassifierScore*100)"
   ]
  },
  {
   "cell_type": "markdown",
   "id": "362fa88d",
   "metadata": {
    "papermill": {
     "duration": 0.056052,
     "end_time": "2021-08-02T05:13:40.320180",
     "exception": false,
     "start_time": "2021-08-02T05:13:40.264128",
     "status": "completed"
    },
    "tags": []
   },
   "source": [
    "## Gradient Boosting Classifier"
   ]
  },
  {
   "cell_type": "code",
   "execution_count": 38,
   "id": "e0ce18e8",
   "metadata": {
    "execution": {
     "iopub.execute_input": "2021-08-02T05:13:40.438268Z",
     "iopub.status.busy": "2021-08-02T05:13:40.437446Z",
     "iopub.status.idle": "2021-08-02T05:13:40.571926Z",
     "shell.execute_reply": "2021-08-02T05:13:40.572386Z",
     "shell.execute_reply.started": "2021-08-02T04:35:00.158920Z"
    },
    "papermill": {
     "duration": 0.196703,
     "end_time": "2021-08-02T05:13:40.572554",
     "exception": false,
     "start_time": "2021-08-02T05:13:40.375851",
     "status": "completed"
    },
    "tags": []
   },
   "outputs": [
    {
     "data": {
      "text/plain": [
       "GradientBoostingClassifier()"
      ]
     },
     "execution_count": 38,
     "metadata": {},
     "output_type": "execute_result"
    }
   ],
   "source": [
    "from sklearn.ensemble import GradientBoostingClassifier\n",
    "\n",
    "gb = GradientBoostingClassifier()\n",
    "gb.fit(X_train, y_train)"
   ]
  },
  {
   "cell_type": "code",
   "execution_count": 39,
   "id": "392103aa",
   "metadata": {
    "execution": {
     "iopub.execute_input": "2021-08-02T05:13:40.689385Z",
     "iopub.status.busy": "2021-08-02T05:13:40.688526Z",
     "iopub.status.idle": "2021-08-02T05:13:40.696983Z",
     "shell.execute_reply": "2021-08-02T05:13:40.696537Z",
     "shell.execute_reply.started": "2021-08-02T04:35:00.326410Z"
    },
    "papermill": {
     "duration": 0.068528,
     "end_time": "2021-08-02T05:13:40.697102",
     "exception": false,
     "start_time": "2021-08-02T05:13:40.628574",
     "status": "completed"
    },
    "tags": []
   },
   "outputs": [
    {
     "name": "stdout",
     "output_type": "stream",
     "text": [
      "Accuracy obtained by Gradient Boosting Classifier model: 84.42211055276381\n"
     ]
    }
   ],
   "source": [
    "GradientBoostingClassifierScore = gb.score(X_test,y_test)\n",
    "print(\"Accuracy obtained by Gradient Boosting Classifier model:\",GradientBoostingClassifierScore*100)"
   ]
  },
  {
   "cell_type": "markdown",
   "id": "bf98da6c",
   "metadata": {
    "papermill": {
     "duration": 0.057983,
     "end_time": "2021-08-02T05:13:40.812354",
     "exception": false,
     "start_time": "2021-08-02T05:13:40.754371",
     "status": "completed"
    },
    "tags": []
   },
   "source": [
    "## Comparing performance of the models"
   ]
  },
  {
   "cell_type": "code",
   "execution_count": 40,
   "id": "783a0e83",
   "metadata": {
    "execution": {
     "iopub.execute_input": "2021-08-02T05:13:40.955408Z",
     "iopub.status.busy": "2021-08-02T05:13:40.954423Z",
     "iopub.status.idle": "2021-08-02T05:13:41.146465Z",
     "shell.execute_reply": "2021-08-02T05:13:41.145975Z",
     "shell.execute_reply.started": "2021-08-02T04:35:00.339293Z"
    },
    "papermill": {
     "duration": 0.277529,
     "end_time": "2021-08-02T05:13:41.146651",
     "exception": false,
     "start_time": "2021-08-02T05:13:40.869122",
     "status": "completed"
    },
    "tags": []
   },
   "outputs": [
    {
     "data": {
      "image/png": "[encoded data removed]",
      "text/plain": [
       "<Figure size 640x480 with 1 Axes>"
      ]
     },
     "metadata": {},
     "output_type": "display_data"
    }
   ],
   "source": [
    "plt.style.use(\"classic\")\n",
    "x = [\"LogisticRegression\", \n",
    "     \"Decision Tree Classifier\", \n",
    "     \"RandomForestClassifier\", \n",
    "     \"KNeighborsClassifier\", \n",
    "     \"CatBoost Classifier\", \n",
    "     \"Gradient Boosting Classifier\"]\n",
    "\n",
    "y = [LogisticRegressionScore, \n",
    "     DecisionTreeClassifierScore, \n",
    "     RandomForestClassifierScore, \n",
    "     KNeighborsClassifierScore, \n",
    "     CatBoostClassifierScore, \n",
    "     GradientBoostingClassifierScore]\n",
    "\n",
    "fig, ax = plt.subplots(figsize=(8,6))\n",
    "sns.barplot(x=x,y=y, palette=\"crest\");\n",
    "plt.xlabel(\"Models\")\n",
    "plt.ylabel(\"Model Accuracy\")\n",
    "plt.xticks(rotation=40)\n",
    "plt.title(\"Model Comparison - Model Accuracy\");"
   ]
  },
  {
   "cell_type": "markdown",
   "id": "c858e105",
   "metadata": {
    "papermill": {
     "duration": 0.063934,
     "end_time": "2021-08-02T05:13:41.271080",
     "exception": false,
     "start_time": "2021-08-02T05:13:41.207146",
     "status": "completed"
    },
    "tags": []
   },
   "source": [
    "## Hyperparamter Tuning on Random Forest Classifier"
   ]
  },
  {
   "cell_type": "code",
   "execution_count": 41,
   "id": "199f673c",
   "metadata": {
    "execution": {
     "iopub.execute_input": "2021-08-02T05:13:41.396306Z",
     "iopub.status.busy": "2021-08-02T05:13:41.395675Z",
     "iopub.status.idle": "2021-08-02T05:13:41.398111Z",
     "shell.execute_reply": "2021-08-02T05:13:41.397679Z",
     "shell.execute_reply.started": "2021-08-02T04:35:29.916046Z"
    },
    "papermill": {
     "duration": 0.06686,
     "end_time": "2021-08-02T05:13:41.398227",
     "exception": false,
     "start_time": "2021-08-02T05:13:41.331367",
     "status": "completed"
    },
    "tags": []
   },
   "outputs": [],
   "source": [
    "from sklearn.model_selection import GridSearchCV\n",
    "\n",
    "param_grid = {\n",
    "    'bootstrap': [True],\n",
    "    'max_depth': [80, 90, 100, 110, 120],\n",
    "    'max_features': [2, 3],\n",
    "    'min_samples_leaf': [3, 4, 5],\n",
    "    'min_samples_split': [8, 10, 12],\n",
    "    'criterion' : ['gini', 'entropy'],\n",
    "    'n_estimators': [100, 200, 300, 1000]\n",
    "}\n",
    "\n",
    "grid_search_rf = GridSearchCV(estimator = rf, \n",
    "                              param_grid = param_grid, \n",
    "                              cv = 3, n_jobs = -1, verbose = 2)"
   ]
  },
  {
   "cell_type": "code",
   "execution_count": 42,
   "id": "ceb57f15",
   "metadata": {
    "execution": {
     "iopub.execute_input": "2021-08-02T05:13:41.519441Z",
     "iopub.status.busy": "2021-08-02T05:13:41.518905Z",
     "iopub.status.idle": "2021-08-02T05:26:15.843153Z",
     "shell.execute_reply": "2021-08-02T05:26:15.842631Z",
     "shell.execute_reply.started": "2021-08-02T04:35:31.492836Z"
    },
    "papermill": {
     "duration": 754.386521,
     "end_time": "2021-08-02T05:26:15.843357",
     "exception": false,
     "start_time": "2021-08-02T05:13:41.456836",
     "status": "completed"
    },
    "tags": []
   },
   "outputs": [
    {
     "name": "stdout",
     "output_type": "stream",
     "text": [
      "Fitting 3 folds for each of 720 candidates, totalling 2160 fits\n"
     ]
    },
    {
     "name": "stderr",
     "output_type": "stream",
     "text": [
      "[Parallel(n_jobs=-1)]: Using backend LokyBackend with 4 concurrent workers.\n",
      "[Parallel(n_jobs=-1)]: Done  33 tasks      | elapsed:   12.2s\n",
      "[Parallel(n_jobs=-1)]: Done 154 tasks      | elapsed:   53.9s\n",
      "[Parallel(n_jobs=-1)]: Done 357 tasks      | elapsed:  2.1min\n",
      "[Parallel(n_jobs=-1)]: Done 640 tasks      | elapsed:  3.7min\n",
      "[Parallel(n_jobs=-1)]: Done 1005 tasks      | elapsed:  5.8min\n",
      "[Parallel(n_jobs=-1)]: Done 1450 tasks      | elapsed:  8.4min\n",
      "[Parallel(n_jobs=-1)]: Done 1977 tasks      | elapsed: 11.5min\n",
      "[Parallel(n_jobs=-1)]: Done 2160 out of 2160 | elapsed: 12.6min finished\n"
     ]
    },
    {
     "data": {
      "text/plain": [
       "GridSearchCV(cv=3, estimator=RandomForestClassifier(), n_jobs=-1,\n",
       "             param_grid={'bootstrap': [True], 'criterion': ['gini', 'entropy'],\n",
       "                         'max_depth': [80, 90, 100, 110, 120],\n",
       "                         'max_features': [2, 3], 'min_samples_leaf': [3, 4, 5],\n",
       "                         'min_samples_split': [8, 10, 12],\n",
       "                         'n_estimators': [100, 200, 300, 1000]},\n",
       "             verbose=2)"
      ]
     },
     "execution_count": 42,
     "metadata": {},
     "output_type": "execute_result"
    }
   ],
   "source": [
    "grid_search_rf.fit(X_train, y_train)"
   ]
  },
  {
   "cell_type": "code",
   "execution_count": 43,
   "id": "66883def",
   "metadata": {
    "execution": {
     "iopub.execute_input": "2021-08-02T05:26:15.980502Z",
     "iopub.status.busy": "2021-08-02T05:26:15.979729Z",
     "iopub.status.idle": "2021-08-02T05:26:15.983376Z",
     "shell.execute_reply": "2021-08-02T05:26:15.982911Z",
     "shell.execute_reply.started": "2021-08-02T05:03:23.232276Z"
    },
    "papermill": {
     "duration": 0.073306,
     "end_time": "2021-08-02T05:26:15.983504",
     "exception": false,
     "start_time": "2021-08-02T05:26:15.910198",
     "status": "completed"
    },
    "tags": []
   },
   "outputs": [
    {
     "data": {
      "text/plain": [
       "{'bootstrap': True,\n",
       " 'criterion': 'entropy',\n",
       " 'max_depth': 80,\n",
       " 'max_features': 2,\n",
       " 'min_samples_leaf': 3,\n",
       " 'min_samples_split': 8,\n",
       " 'n_estimators': 200}"
      ]
     },
     "execution_count": 43,
     "metadata": {},
     "output_type": "execute_result"
    }
   ],
   "source": [
    "grid_search_rf.best_params_"
   ]
  },
  {
   "cell_type": "code",
   "execution_count": 44,
   "id": "fdd050a2",
   "metadata": {
    "execution": {
     "iopub.execute_input": "2021-08-02T05:26:16.121044Z",
     "iopub.status.busy": "2021-08-02T05:26:16.120164Z",
     "iopub.status.idle": "2021-08-02T05:26:16.123909Z",
     "shell.execute_reply": "2021-08-02T05:26:16.124343Z",
     "shell.execute_reply.started": "2021-08-02T05:03:25.540830Z"
    },
    "papermill": {
     "duration": 0.07402,
     "end_time": "2021-08-02T05:26:16.124495",
     "exception": false,
     "start_time": "2021-08-02T05:26:16.050475",
     "status": "completed"
    },
    "tags": []
   },
   "outputs": [
    {
     "data": {
      "text/plain": [
       "0.8338671517399626"
      ]
     },
     "execution_count": 44,
     "metadata": {},
     "output_type": "execute_result"
    }
   ],
   "source": [
    "grid_search_rf.best_score_"
   ]
  },
  {
   "cell_type": "code",
   "execution_count": 45,
   "id": "17b8880a",
   "metadata": {
    "execution": {
     "iopub.execute_input": "2021-08-02T05:26:16.263363Z",
     "iopub.status.busy": "2021-08-02T05:26:16.262494Z",
     "iopub.status.idle": "2021-08-02T05:26:16.292925Z",
     "shell.execute_reply": "2021-08-02T05:26:16.292347Z",
     "shell.execute_reply.started": "2021-08-02T05:03:27.851950Z"
    },
    "papermill": {
     "duration": 0.103619,
     "end_time": "2021-08-02T05:26:16.293037",
     "exception": false,
     "start_time": "2021-08-02T05:26:16.189418",
     "status": "completed"
    },
    "tags": []
   },
   "outputs": [],
   "source": [
    "grid_search_rf_predict = grid_search_rf.predict(X_test)"
   ]
  },
  {
   "cell_type": "code",
   "execution_count": 46,
   "id": "46b00b02",
   "metadata": {
    "execution": {
     "iopub.execute_input": "2021-08-02T05:26:16.430477Z",
     "iopub.status.busy": "2021-08-02T05:26:16.429844Z",
     "iopub.status.idle": "2021-08-02T05:26:16.432963Z",
     "shell.execute_reply": "2021-08-02T05:26:16.432444Z",
     "shell.execute_reply.started": "2021-08-02T05:10:48.698317Z"
    },
    "papermill": {
     "duration": 0.072711,
     "end_time": "2021-08-02T05:26:16.433113",
     "exception": false,
     "start_time": "2021-08-02T05:26:16.360402",
     "status": "completed"
    },
    "tags": []
   },
   "outputs": [
    {
     "name": "stdout",
     "output_type": "stream",
     "text": [
      "Improvement in Random Forest Classifier after GridSearchCV: 4.04%.\n"
     ]
    }
   ],
   "source": [
    "print('Improvement in Random Forest Classifier after GridSearchCV: {:0.2f}%.'.format(100 * (grid_search_rf.best_score_ - RandomForestClassifierScore) / RandomForestClassifierScore))"
   ]
  },
  {
   "cell_type": "code",
   "execution_count": 47,
   "id": "4c040757",
   "metadata": {
    "execution": {
     "iopub.execute_input": "2021-08-02T05:26:16.569932Z",
     "iopub.status.busy": "2021-08-02T05:26:16.569082Z",
     "iopub.status.idle": "2021-08-02T05:26:16.577231Z",
     "shell.execute_reply": "2021-08-02T05:26:16.576643Z",
     "shell.execute_reply.started": "2021-08-02T05:11:54.127947Z"
    },
    "papermill": {
     "duration": 0.078873,
     "end_time": "2021-08-02T05:26:16.577340",
     "exception": false,
     "start_time": "2021-08-02T05:26:16.498467",
     "status": "completed"
    },
    "tags": []
   },
   "outputs": [
    {
     "name": "stdout",
     "output_type": "stream",
     "text": [
      "              precision    recall  f1-score   support\n",
      "\n",
      "           0       0.81      0.98      0.89       257\n",
      "           1       0.95      0.57      0.71       141\n",
      "\n",
      "    accuracy                           0.84       398\n",
      "   macro avg       0.88      0.78      0.80       398\n",
      "weighted avg       0.86      0.84      0.82       398\n",
      "\n"
     ]
    }
   ],
   "source": [
    "from sklearn.metrics import classification_report\n",
    "\n",
    "print(classification_report(y_test, grid_search_rf_predict))"
   ]
  }
 ],
 "metadata": {
  "kernelspec": {
   "display_name": "Python 3",
   "language": "python",
   "name": "python3"
  },
  "language_info": {
   "codemirror_mode": {
    "name": "ipython",
    "version": 3
   },
   "file_extension": ".py",
   "mimetype": "text/x-python",
   "name": "python",
   "nbconvert_exporter": "python",
   "pygments_lexer": "ipython3",
   "version": "3.7.10"
  },
  "papermill": {
   "default_parameters": {},
   "duration": 773.396375,
   "end_time": "2021-08-02T05:26:17.352087",
   "environment_variables": {},
   "exception": null,
   "input_path": "__notebook__.ipynb",
   "output_path": "__notebook__.ipynb",
   "parameters": {},
   "start_time": "2021-08-02T05:13:23.955712",
   "version": "2.3.3"
  }
 },
 "nbformat": 4,
 "nbformat_minor": 5
}
